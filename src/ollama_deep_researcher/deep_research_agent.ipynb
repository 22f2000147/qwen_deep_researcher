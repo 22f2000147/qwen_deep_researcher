{
 "cells": [
  {
   "cell_type": "markdown",
   "id": "f9f04811",
   "metadata": {},
   "source": [
    "## Utilities Functions & Steups"
   ]
  },
  {
   "cell_type": "code",
   "execution_count": 1,
   "id": "63bffd4e",
   "metadata": {},
   "outputs": [],
   "source": [
    "import httpx\n",
    "from langsmith import traceable\n",
    "from typing import Dict, Any, List, Union, Optional\n",
    "from markdownify import markdownify\n",
    "from duckduckgo_search import DDGS\n",
    "\n",
    "def fetch_raw_content(url: str) -> Optional[str]:\n",
    "    \"\"\"\n",
    "    Fetch HTML content from a URL and convert it to markdown format.\n",
    "    \n",
    "    Uses a 10-second timeout to avoid hanging on slow sites or large pages.\n",
    "    \n",
    "    Args:\n",
    "        url (str): The URL to fetch content from\n",
    "        \n",
    "    Returns:\n",
    "        Optional[str]: The fetched content converted to markdown if successful,\n",
    "                      None if any error occurs during fetching or conversion\n",
    "    \"\"\"\n",
    "    try:                \n",
    "        # Create a client with reasonable timeout\n",
    "        with httpx.Client(timeout=10.0) as client:\n",
    "            response = client.get(url)\n",
    "            response.raise_for_status()\n",
    "            return markdownify(response.text)\n",
    "    except Exception as e:\n",
    "        print(f\"Warning: Failed to fetch full page content for {url}: {str(e)}\")\n",
    "        return None\n",
    "\n",
    "def deduplicate_and_format_sources(search_response, max_tokens_per_source, include_raw_content=True):\n",
    "    \"\"\"\n",
    "    Takes either a single search response or list of responses from Tavily API and formats them.\n",
    "    Limits the raw_content to approximately max_tokens_per_source.\n",
    "    include_raw_content specifies whether to include the raw_content from Tavily in the formatted string.\n",
    "    \n",
    "    Args:\n",
    "        search_response: Either:\n",
    "            - A dict with a 'results' key containing a list of search results\n",
    "            - A list of dicts, each containing search results\n",
    "            \n",
    "    Returns:\n",
    "        str: Formatted string with deduplicated sources\n",
    "    \"\"\"\n",
    "    # Convert input to list of results\n",
    "    if isinstance(search_response, dict):\n",
    "        sources_list = search_response['results']\n",
    "    elif isinstance(search_response, list):\n",
    "        sources_list = []\n",
    "        for response in search_response:\n",
    "            if isinstance(response, dict) and 'results' in response:\n",
    "                sources_list.extend(response['results'])\n",
    "            else:\n",
    "                sources_list.extend(response)\n",
    "    else:\n",
    "        raise ValueError(\"Input must be either a dict with 'results' or a list of search results\")\n",
    "    \n",
    "    # Deduplicate by URL\n",
    "    unique_sources = {}\n",
    "    for source in sources_list:\n",
    "        if source['url'] not in unique_sources:\n",
    "            unique_sources[source['url']] = source\n",
    "    \n",
    "    # Format output\n",
    "    formatted_text = \"Sources:\\n\\n\"\n",
    "    for i, source in enumerate(unique_sources.values(), 1):\n",
    "        formatted_text += f\"Source {source['title']}:\\n===\\n\"\n",
    "        formatted_text += f\"URL: {source['url']}\\n===\\n\"\n",
    "        formatted_text += f\"Most relevant content from source: {source['content']}\\n===\\n\"\n",
    "        if include_raw_content:\n",
    "            # Using rough estimate of 4 characters per token\n",
    "            char_limit = max_tokens_per_source * 4\n",
    "            # Handle None raw_content\n",
    "            raw_content = source.get('raw_content', '')\n",
    "            if raw_content is None:\n",
    "                raw_content = ''\n",
    "                print(f\"Warning: No raw_content found for source {source['url']}\")\n",
    "            if len(raw_content) > char_limit:\n",
    "                raw_content = raw_content[:char_limit] + \"... [truncated]\"\n",
    "            formatted_text += f\"Full source content limited to {max_tokens_per_source} tokens: {raw_content}\\n\\n\"\n",
    "                \n",
    "    return formatted_text.strip()\n",
    "\n",
    "def format_sources(search_results):\n",
    "    \"\"\"Format search results into a bullet-point list of sources.\n",
    "    \n",
    "    Args:\n",
    "        search_results (dict): Tavily search response containing results\n",
    "        \n",
    "    Returns:\n",
    "        str: Formatted string with sources and their URLs\n",
    "    \"\"\"\n",
    "    return '\\n'.join(\n",
    "        f\"* {source['title']} : {source['url']}\"\n",
    "        for source in search_results['results']\n",
    "    )\n",
    "\n",
    "@traceable\n",
    "def duckduckgo_search(query: str, max_results: int = 3, fetch_full_page: bool = False) -> Dict[str, List[Dict[str, Any]]]:\n",
    "    \"\"\"\n",
    "    Search the web using DuckDuckGo and return formatted results.\n",
    "    \n",
    "    Uses the DDGS library to perform web searches through DuckDuckGo.\n",
    "    \n",
    "    Args:\n",
    "        query (str): The search query to execute\n",
    "        max_results (int, optional): Maximum number of results to return. Defaults to 3.\n",
    "        fetch_full_page (bool, optional): Whether to fetch full page content from result URLs. \n",
    "                                         Defaults to False.\n",
    "    Returns:\n",
    "        Dict[str, List[Dict[str, Any]]]: Search response containing:\n",
    "            - results (list): List of search result dictionaries, each containing:\n",
    "                - title (str): Title of the search result\n",
    "                - url (str): URL of the search result\n",
    "                - content (str): Snippet/summary of the content\n",
    "                - raw_content (str or None): Full page content if fetch_full_page is True,\n",
    "                                            otherwise same as content\n",
    "    \"\"\"\n",
    "    try:\n",
    "        with DDGS() as ddgs:\n",
    "            results = []\n",
    "            search_results = list(ddgs.text(query, max_results=max_results))\n",
    "            \n",
    "            for r in search_results:\n",
    "                url = r.get('href')\n",
    "                title = r.get('title')\n",
    "                content = r.get('body')\n",
    "                \n",
    "                if not all([url, title, content]):\n",
    "                    print(f\"Warning: Incomplete result from DuckDuckGo: {r}\")\n",
    "                    continue\n",
    "\n",
    "                raw_content = content\n",
    "                if fetch_full_page:\n",
    "                    raw_content = fetch_raw_content(url)\n",
    "                \n",
    "                # Add result to list\n",
    "                result = {\n",
    "                    \"title\": title,\n",
    "                    \"url\": url,\n",
    "                    \"content\": content,\n",
    "                    \"raw_content\": raw_content\n",
    "                }\n",
    "                results.append(result)\n",
    "            \n",
    "            return {\"results\": results}\n",
    "    except Exception as e:\n",
    "        print(f\"Error in DuckDuckGo search: {str(e)}\")\n",
    "        print(f\"Full error details: {type(e).__name__}\")\n",
    "        return {\"results\": []}"
   ]
  },
  {
   "cell_type": "markdown",
   "id": "6326256f",
   "metadata": {},
   "source": [
    "---"
   ]
  },
  {
   "cell_type": "markdown",
   "id": "9b1fbbc1",
   "metadata": {},
   "source": [
    "## Define Local Model\n",
    "\n",
    "Qwen3"
   ]
  },
  {
   "cell_type": "code",
   "execution_count": 2,
   "id": "6725066f",
   "metadata": {},
   "outputs": [
    {
     "data": {
      "text/plain": [
       "ChatOllama(model='qwen3:8b-q4_K_M', temperature=0.0, format='json')"
      ]
     },
     "execution_count": 2,
     "metadata": {},
     "output_type": "execute_result"
    }
   ],
   "source": [
    "# imports\n",
    "from langchain_ollama import ChatOllama\n",
    "\n",
    "# instantiate the model\n",
    "local_llm = \"qwen3:8b-q4_K_M\"\n",
    "llm  = ChatOllama(model = local_llm, temperature = 0)\n",
    "\n",
    "# set llm json \n",
    "llm_json_mode = ChatOllama(model = local_llm, temperature = 0, format='json')\n",
    "\n",
    "llm_json_mode"
   ]
  },
  {
   "cell_type": "markdown",
   "id": "be7ee9e5",
   "metadata": {},
   "source": [
    "## Define States\n",
    "* State refers to moment.\n",
    "* State preserve all the info in the course of lifetime of agent.\n",
    "* 3 states - `SummaryState` (store agent req data), `SummaryStateInput` (user req data), `SummaryStateOutput` (store agent output)"
   ]
  },
  {
   "cell_type": "code",
   "execution_count": 3,
   "id": "7e1a550e",
   "metadata": {},
   "outputs": [],
   "source": [
    "# imports\n",
    "import operator\n",
    "from dataclasses import dataclass, field\n",
    "from typing import TypedDict, Annotated, Literal # to impose dtype restrictions"
   ]
  },
  {
   "cell_type": "code",
   "execution_count": 4,
   "id": "5ed180f8",
   "metadata": {},
   "outputs": [
    {
     "data": {
      "text/plain": [
       "__main__.SummaryState"
      ]
     },
     "execution_count": 4,
     "metadata": {},
     "output_type": "execute_result"
    }
   ],
   "source": [
    "# create summary state data class - core & preserves all important information\n",
    "# for assistant\n",
    "@dataclass(kw_only=True)\n",
    "class SummaryState:\n",
    "    \"\"\"Summary state data class.\"\"\"\n",
    "    research_topic: str = field(default=None) # report topic\n",
    "    search_query: str = field(default=None) # search query\n",
    "    web_research_results : Annotated[list, operator.add] = field(default_factory=list) # web research results\n",
    "    sources_gathered : Annotated[list, operator.add] = field(default_factory=list) # sources gathered (urls)\n",
    "    research_loop_count : int = field(default=0) # research loop count - for iteration tracking\n",
    "    final_summary: str = field(default=None) # final report\n",
    "\n",
    "SummaryState"
   ]
  },
  {
   "cell_type": "code",
   "execution_count": 5,
   "id": "dd65def3",
   "metadata": {},
   "outputs": [
    {
     "data": {
      "text/plain": [
       "__main__.SummaryStateInput"
      ]
     },
     "execution_count": 5,
     "metadata": {},
     "output_type": "execute_result"
    }
   ],
   "source": [
    "# create a summary state input object to let user define the research topic\n",
    "dataclass(kw_only=True)\n",
    "class SummaryStateInput(TypedDict):\n",
    "    \"\"\"user input\"\"\"\n",
    "    research_topic: str = field(default=None) # report topic\n",
    "\n",
    "SummaryStateInput"
   ]
  },
  {
   "cell_type": "code",
   "execution_count": 6,
   "id": "5999784d",
   "metadata": {},
   "outputs": [
    {
     "data": {
      "text/plain": [
       "__main__.SummaryStateOutput"
      ]
     },
     "execution_count": 6,
     "metadata": {},
     "output_type": "execute_result"
    }
   ],
   "source": [
    "# create a summary state output object to store all the output info\n",
    "@dataclass(kw_only=True)\n",
    "class SummaryStateOutput(TypedDict):\n",
    "    \"\"\"Summary output\"\"\"\n",
    "    final_summary: str = field(default=None) # Final report\n",
    "\n",
    "SummaryStateOutput"
   ]
  },
  {
   "cell_type": "markdown",
   "id": "fa623afb",
   "metadata": {},
   "source": [
    "## Define All Prompts\n",
    "* Defines how model should act, think of it giving action\n",
    "* Most Important part of any AI Agent Flow \n",
    "* Defines :\n",
    "    * Qwery Writer Prompt\n",
    "    * Summariser Instruction Prompt\n",
    "    * Reflection Prompt"
   ]
  },
  {
   "cell_type": "code",
   "execution_count": 7,
   "id": "6505f274",
   "metadata": {},
   "outputs": [
    {
     "data": {
      "text/plain": [
       "'Your goal is to generate targeted web search query.\\nThe query will gather information related to a specific topic.\\n\\nTopic:\\n{research_topic}\\n\\nReturn your query as a JSON object:\\n{{\\n    \"query\": \"string\",\\n    \"aspect\": \"string\",\\n    \"rationale\": \"string\"\\n}}\\n'"
      ]
     },
     "execution_count": 7,
     "metadata": {},
     "output_type": "execute_result"
    }
   ],
   "source": [
    "# qwery writer prompt - model feeding prompt\n",
    "query_writer_prompt=\"\"\"Your goal is to generate targeted web search query.\n",
    "The query will gather information related to a specific topic.\n",
    "\n",
    "Topic:\n",
    "{research_topic}\n",
    "\n",
    "Return your query as a JSON object:\n",
    "{{\n",
    "    \"query\": \"string\",\n",
    "    \"aspect\": \"string\",\n",
    "    \"rationale\": \"string\"\n",
    "}}\n",
    "\"\"\"\n",
    "# rationale - why this query is important. incourages model to think about generation of a query itself\n",
    "query_writer_prompt"
   ]
  },
  {
   "cell_type": "code",
   "execution_count": 8,
   "id": "7cca74a4",
   "metadata": {},
   "outputs": [
    {
     "data": {
      "text/plain": [
       "'Your goal is to generate a high-quality summary of the web search results.\\n\\nWhen EXTENDING an existing summary:\\n1. Seamlessly integrate new information without repeating what\\'s already covered\\n2. Maintain consistency with the existing content\\'s style and depth\\n3. Only add new, non-redundant information\\n4. Ensure smooth transitions between existing and new content\\n\\nWhen creating a NEW summary:\\n1. Highlight the most relevant information from each source\\n2. Provide a concise overview of the key points related to the report topic\\n3. Emphasize significant findings or insights\\n4. Ensure a coherent flow of information\\n\\nIn both cases:\\n- Focus on factual, objective information\\n- Maintain a consistent technical depth\\n- Avoid redundancy and repetition\\n- DO NOT use phrases like \"based on the new results\" or \"according to additional sources\"\\n- DO NOT add a preamble like \"Here is an extended summary ...\" Just directly output the summary.\\n- DO NOT add a References or Works Cited section.\\n'"
      ]
     },
     "execution_count": 8,
     "metadata": {},
     "output_type": "execute_result"
    }
   ],
   "source": [
    "# summarizer instructions prompt - 1st summarisation\n",
    "summarizer_instructions_prompt=\"\"\"Your goal is to generate a high-quality summary of the web search results.\n",
    "\n",
    "When EXTENDING an existing summary:\n",
    "1. Seamlessly integrate new information without repeating what's already covered\n",
    "2. Maintain consistency with the existing content's style and depth\n",
    "3. Only add new, non-redundant information\n",
    "4. Ensure smooth transitions between existing and new content\n",
    "\n",
    "When creating a NEW summary:\n",
    "1. Highlight the most relevant information from each source\n",
    "2. Provide a concise overview of the key points related to the report topic\n",
    "3. Emphasize significant findings or insights\n",
    "4. Ensure a coherent flow of information\n",
    "\n",
    "In both cases:\n",
    "- Focus on factual, objective information\n",
    "- Maintain a consistent technical depth\n",
    "- Avoid redundancy and repetition\n",
    "- DO NOT use phrases like \"based on the new results\" or \"according to additional sources\"\n",
    "- DO NOT add a preamble like \"Here is an extended summary ...\" Just directly output the summary.\n",
    "- DO NOT add a References or Works Cited section.\n",
    "\"\"\"\n",
    "\n",
    "summarizer_instructions_prompt"
   ]
  },
  {
   "cell_type": "code",
   "execution_count": 9,
   "id": "2bc4a095",
   "metadata": {},
   "outputs": [
    {
     "data": {
      "text/plain": [
       "'You are an expert research assistant analyzing a summary about {research_topic}.\\n\\nYour tasks:\\n1. Identify knowledge gaps or areas that need deeper exploration\\n2. Generate a follow-up question that would help expand your understanding\\n3. Focus on technical details, implementation specifics, or emerging trends that weren\\'t fully covered\\n\\nEnsure the follow-up question is self-contained and includes necessary context for web search.\\n\\nReturn your analysis as a JSON object:\\n{{ \\n    \"knowledge_gap\": \"string\",\\n    \"follow_up_query\": \"string\"\\n}}'"
      ]
     },
     "execution_count": 9,
     "metadata": {},
     "output_type": "execute_result"
    }
   ],
   "source": [
    "# reflection prompt - for agents internal thinking\n",
    "reflection_instructions_prompt = \"\"\"You are an expert research assistant analyzing a summary about {research_topic}.\n",
    "\n",
    "Your tasks:\n",
    "1. Identify knowledge gaps or areas that need deeper exploration\n",
    "2. Generate a follow-up question that would help expand your understanding\n",
    "3. Focus on technical details, implementation specifics, or emerging trends that weren't fully covered\n",
    "\n",
    "Ensure the follow-up question is self-contained and includes necessary context for web search.\n",
    "\n",
    "Return your analysis as a JSON object:\n",
    "{{ \n",
    "    \"knowledge_gap\": \"string\",\n",
    "    \"follow_up_query\": \"string\"\n",
    "}}\"\"\"\n",
    "\n",
    "reflection_instructions_prompt"
   ]
  },
  {
   "cell_type": "markdown",
   "id": "d4c3cab8",
   "metadata": {},
   "source": [
    "## Define Functional Nodes\n",
    "* Defined functions / nodes to exectue tasks\n",
    "* Defines:\n",
    "    * `generate_query` - generates intial query and feds to model\n",
    "    * `web_research` - performs web research\n",
    "    * `summarise_sources` - internally generate summarises\n",
    "    * `reflect_on_summary` - think about summary, if require redo web research\n",
    "    * `finalise_summary` - give the final output"
   ]
  },
  {
   "cell_type": "code",
   "execution_count": 10,
   "id": "98ba255a",
   "metadata": {},
   "outputs": [],
   "source": [
    "import json\n",
    "from langchain_core.runnables import RunnableConfig\n",
    "from langgraph.graph import START, END, StateGraph\n",
    "from langchain_core.messages import HumanMessage, SystemMessage\n",
    "from configuration import Configuration"
   ]
  },
  {
   "cell_type": "code",
   "execution_count": 11,
   "id": "5a6acde4",
   "metadata": {},
   "outputs": [],
   "source": [
    "# generate query node\n",
    "def generate_query(state: SummaryState):\n",
    "    \"\"\" Generate a query for web search \"\"\"\n",
    "    \n",
    "    # Format the prompt\n",
    "    query_writer_instructions_formatted = query_writer_prompt.format(research_topic=state.research_topic)\n",
    "\n",
    "    # Generate a query\n",
    "    result = llm_json_mode.invoke(\n",
    "        [SystemMessage(content=query_writer_instructions_formatted),\n",
    "        HumanMessage(content=f\"Generate a query for web search:\")]\n",
    "    )   \n",
    "    query = json.loads(result.content)\n",
    "    \n",
    "    return {\"search_query\": query['query']}"
   ]
  },
  {
   "cell_type": "code",
   "execution_count": null,
   "id": "5ef0d11b",
   "metadata": {},
   "outputs": [],
   "source": [
    "# from ollama_deep_researcher.configuration import Configuration, SearchAPI\n",
    "\n",
    "def web_research(state: SummaryState):\n",
    "    \"\"\" Gather information from the web \"\"\"\n",
    "    # Search the web\n",
    "    search_results = duckduckgo_search(state.search_query, max_results=3, fetch_full_page=True)\n",
    "    search_str = deduplicate_and_format_sources(search_results, max_tokens_per_source=1000)\n",
    "    return {\"sources_gathered\": [format_sources(search_results)], \"research_loop_count\": state.research_loop_count + 1, \"web_research_results\": [search_str]}"
   ]
  },
  {
   "cell_type": "code",
   "execution_count": 13,
   "id": "a55f8e6a",
   "metadata": {},
   "outputs": [],
   "source": [
    "def summarize_sources(state: SummaryState):\n",
    "    \"\"\" Summarize the gathered sources \"\"\"\n",
    "    \n",
    "    # Existing summary\n",
    "    existing_summary = state.final_summary\n",
    "\n",
    "    # Most recent web research\n",
    "    most_recent_web_research = state.web_research_results[-1]\n",
    "\n",
    "    # Build the human message\n",
    "    if existing_summary:\n",
    "        human_message_content = (\n",
    "            f\"Extend the existing summary: {existing_summary}\\n\\n\"\n",
    "            f\"Include new search results: {most_recent_web_research} \"\n",
    "            f\"That addresses the following topic: {state.research_topic}\"\n",
    "        )\n",
    "    else:\n",
    "        human_message_content = (\n",
    "            f\"Generate a summary of these search results: {most_recent_web_research} \"\n",
    "            f\"That addresses the following topic: {state.research_topic}\"\n",
    "        )\n",
    "\n",
    "    # Run the LLM\n",
    "    result = llm.invoke(\n",
    "        [SystemMessage(content=summarizer_instructions_prompt),\n",
    "        HumanMessage(content=human_message_content)]\n",
    "    )\n",
    "\n",
    "    final_summary = result.content\n",
    "    return {\"final_summary\": final_summary}\n"
   ]
  },
  {
   "cell_type": "code",
   "execution_count": 14,
   "id": "ed16447c",
   "metadata": {},
   "outputs": [],
   "source": [
    "def reflect_on_summary(state: SummaryState):\n",
    "    \"\"\" Reflect on the summary and generate a follow-up query \"\"\"\n",
    "\n",
    "    # Generate a query\n",
    "    result = llm_json_mode.invoke(\n",
    "        [SystemMessage(content=reflection_instructions_prompt.format(research_topic=state.research_topic)),\n",
    "        HumanMessage(content=f\"Identify a knowledge gap and generate a follow-up web search query based on our existing knowledge: {state.final_summary}\")]\n",
    "    )   \n",
    "    follow_up_query = json.loads(result.content)\n",
    "\n",
    "    # Overwrite the search query\n",
    "    return {\"search_query\": follow_up_query['follow_up_query']}"
   ]
  },
  {
   "cell_type": "code",
   "execution_count": 15,
   "id": "0e7ebdca",
   "metadata": {},
   "outputs": [],
   "source": [
    "def finalize_summary(state: SummaryState):\n",
    "    \"\"\" Finalize the summary \"\"\"\n",
    "    \n",
    "    # Format all accumulated sources into a single bulleted list\n",
    "    all_sources = \"\\n\".join(source for source in state.sources_gathered)\n",
    "    state.final_summary = f\"## Summary\\n\\n{state.final_summary}\\n\\n ### Sources:\\n{all_sources}\"\n",
    "    return {\"final_summary\": state.final_summary}\n",
    "\n",
    "def route_research(state: SummaryState, config: RunnableConfig) -> Literal[\"finalize_summary\", \"web_research\"]:\n",
    "    \"\"\" Route the research based on the follow-up query \"\"\"\n",
    "\n",
    "    configurable = Configuration.from_runnable_config(config)\n",
    "    if state.research_loop_count <= configurable.max_web_research_loops:\n",
    "        return \"web_research\"\n",
    "    else:\n",
    "        return \"finalize_summary\" "
   ]
  },
  {
   "cell_type": "code",
   "execution_count": 16,
   "id": "5654ef62",
   "metadata": {},
   "outputs": [
    {
     "data": {
      "image/png": "[encoded data removed]",
      "text/plain": [
       "<langgraph.graph.state.CompiledStateGraph object at 0x0000027DD42433E0>"
      ]
     },
     "execution_count": 16,
     "metadata": {},
     "output_type": "execute_result"
    }
   ],
   "source": [
    "# Add nodes and edges \n",
    "builder = StateGraph(SummaryState, input=SummaryStateInput, output=SummaryStateOutput, config_schema=Configuration)\n",
    "builder.add_node(\"generate_query\", generate_query)\n",
    "builder.add_node(\"web_research\", web_research)\n",
    "builder.add_node(\"summarize_sources\", summarize_sources)\n",
    "builder.add_node(\"reflect_on_summary\", reflect_on_summary)\n",
    "builder.add_node(\"finalize_summary\", finalize_summary)\n",
    "\n",
    "\n",
    "# Add edges\n",
    "builder.add_edge(START, \"generate_query\")\n",
    "builder.add_edge(\"generate_query\", \"web_research\")\n",
    "builder.add_edge(\"web_research\", \"summarize_sources\")\n",
    "builder.add_edge(\"summarize_sources\", \"reflect_on_summary\")\n",
    "builder.add_conditional_edges(\"reflect_on_summary\", route_research) # conditional to wether to continue research or finalize\n",
    "builder.add_edge(\"finalize_summary\", END)\n",
    "\n",
    "# compile the graph\n",
    "graph = builder.compile()\n",
    "\n",
    "graph"
   ]
  },
  {
   "cell_type": "markdown",
   "id": "567e68d1",
   "metadata": {},
   "source": [
    "## Test\n",
    "Time to test the model"
   ]
  },
  {
   "cell_type": "code",
   "execution_count": 22,
   "id": "7add8ae4",
   "metadata": {},
   "outputs": [],
   "source": [
    "research_input = SummaryStateInput(\n",
    "    research_topic=\"Benifits of Panner\"\n",
    ")\n",
    "summary = graph.invoke(research_input)"
   ]
  },
  {
   "cell_type": "code",
   "execution_count": null,
   "id": "3e87728d",
   "metadata": {},
   "outputs": [],
   "source": [
    "# # test the output\n",
    "# research_input = SummaryStateInput(\n",
    "#     research_topic=\"Benifits of Paneer\"\n",
    "# )\n",
    "# summary = graph.invoke(research_input)"
   ]
  },
  {
   "cell_type": "code",
   "execution_count": null,
   "id": "c1418672",
   "metadata": {},
   "outputs": [
    {
     "name": "stdout",
     "output_type": "stream",
     "text": [
      "## Summary\n",
      "\n",
      "Paneer, a popular dairy product in Indian cuisine, offers several health benefits. Here's a concise overview based on the provided sources:\n",
      "\n",
      "### **Key Benefits of Paneer**  \n",
      "1. **Rich in Protein and Calcium**  \n",
      "   - Paneer is an excellent source of **protein**, essential for muscle repair, growth, and overall body function.  \n",
      "   - It also provides **calcium**, supporting bone health and preventing conditions like osteoporosis.  \n",
      "\n",
      "2. **Nutrient-Dense**  \n",
      "   - Contains other vital nutrients such as **vitamin B12**, **phosphorus**, and **iron**, which contribute to energy metabolism, blood health, and immune function.  \n",
      "\n",
      "3. **Supports Weight Management**  \n",
      "   - Despite being calorie-dense, paneer’s high protein content can promote satiety, helping control appetite and support weight management when consumed in moderation.  \n",
      "\n",
      "4. **Versatile in Recipes**  \n",
      "   - Can be used in a wide variety of Indian dishes (e.g., butter chicken, paneer tikka, aloo paratha) and is a staple in vegetarian diets.  \n",
      "\n",
      "5. **Accessible and Affordable**  \n",
      "   - Available in different types (e.g., soft, firm, paneer tikka) in local markets, making it a convenient ingredient for home cooking.  \n",
      "\n",
      "### **Considerations**  \n",
      "- **Moderation is Key**: While beneficial, excessive consumption may lead to high saturated fat or sodium intake, depending on the type (e.g., processed paneer).  \n",
      "- **Allergies/Intolerances**: Individuals with lactose intolerance or dairy allergies should avoid paneer.  \n",
      "\n",
      "For a balanced diet, incorporate paneer as part of a varied meal plan, pairing it with vegetables, whole grains, and healthy fats. Always consult a healthcare professional for personalized dietary advice.\n",
      "\n",
      " ### Sources:\n",
      "* 10 Amazing Paneer Benefits For Your Health! - Be Bodywise : https://bebodywise.com/blog/paneer-benefits/\n",
      "* Is paneer healthy for you? 7 benefits of this superfood : https://www.healthshots.com/healthy-eating/superfoods/health-benefits-of-paneer-and-how-to-eat-it/\n",
      "* Paneer Benefits And Its Side Effects | Lybrate : https://www.lybrate.com/topic/paneer-benefits-and-side-effects\n",
      "* Is Paneer Bad For You? - Here Is Your Answer. : https://www.isitbadforyou.com/questions/is-paneer-bad-for-you\n",
      "* Side effects of eating too much paneer | HealthShots : https://www.healthshots.com/healthy-eating/nutrition/side-effects-of-eating-too-much-paneer/\n",
      "* Paneer Benefits And Its Side Effects | Lybrate : https://www.lybrate.com/topic/paneer-benefits-and-side-effects\n",
      "* The Impact of Paneer on Cholesterol Levels - Irasto World Health : https://www.irastoworldhealth.com/nutrition/does-paneer-increase-cholesterol\n",
      "* Here's the good, bad, and ugly of including paneer in ... - HealthShots : https://www.healthshots.com/healthy-eating/nutrition/heres-the-good-bad-and-ugly-of-including-paneer-in-your-daily-diet/\n",
      "* Paneer Benefits And Its Side Effects | Lybrate : https://www.lybrate.com/topic/paneer-benefits-and-side-effects\n",
      "* PDF : https://ijsra.net/sites/default/files/IJSRA-2024-2310.pdf\n",
      "* Here's the good, bad, and ugly of including paneer in ... - HealthShots : https://www.healthshots.com/healthy-eating/nutrition/heres-the-good-bad-and-ugly-of-including-paneer-in-your-daily-diet/\n",
      "* Paneer Benefits And Its Side Effects | Lybrate : https://www.lybrate.com/topic/paneer-benefits-and-side-effects\n"
     ]
    }
   ],
   "source": [
    "# import re\n",
    "# cleaned_summary = re.sub(r'<think>.*?</think>', '', summary['final_summary'], flags=re.DOTALL)\n",
    "# cleaned_summary = re.sub(r'\\n{3,}', '\\n\\n', cleaned_summary)\n",
    "# print(cleaned_summary)"
   ]
  },
  {
   "cell_type": "code",
   "execution_count": null,
   "id": "0a12c3f3",
   "metadata": {},
   "outputs": [],
   "source": []
  }
 ],
 "metadata": {
  "kernelspec": {
   "display_name": ".venv",
   "language": "python",
   "name": "python3"
  },
  "language_info": {
   "codemirror_mode": {
    "name": "ipython",
    "version": 3
   },
   "file_extension": ".py",
   "mimetype": "text/x-python",
   "name": "python",
   "nbconvert_exporter": "python",
   "pygments_lexer": "ipython3",
   "version": "3.12.10"
  }
 },
 "nbformat": 4,
 "nbformat_minor": 5
}
